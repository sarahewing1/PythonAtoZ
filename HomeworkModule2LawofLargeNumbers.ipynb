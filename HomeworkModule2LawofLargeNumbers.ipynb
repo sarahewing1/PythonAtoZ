{
 "cells": [
  {
   "cell_type": "code",
   "execution_count": 10,
   "id": "85c9dbdd",
   "metadata": {},
   "outputs": [
    {
     "name": "stdout",
     "output_type": "stream",
     "text": [
      "0.6816\n"
     ]
    }
   ],
   "source": [
    "#Homework Module 2\n",
    "#Law of Large Numbers\n",
    "import math\n",
    "import numpy as np\n",
    "from numpy.random import randn\n",
    "N = 10000\n",
    "counter = 0\n",
    "for i in randn(N):\n",
    "    if i > -1 and i < 1:\n",
    "        counter = counter + 1\n",
    "answer = counter / N\n",
    "print(answer)"
   ]
  },
  {
   "cell_type": "code",
   "execution_count": null,
   "id": "07ea7b1a",
   "metadata": {},
   "outputs": [],
   "source": []
  }
 ],
 "metadata": {
  "kernelspec": {
   "display_name": "Python 3 (ipykernel)",
   "language": "python",
   "name": "python3"
  },
  "language_info": {
   "codemirror_mode": {
    "name": "ipython",
    "version": 3
   },
   "file_extension": ".py",
   "mimetype": "text/x-python",
   "name": "python",
   "nbconvert_exporter": "python",
   "pygments_lexer": "ipython3",
   "version": "3.9.12"
  }
 },
 "nbformat": 4,
 "nbformat_minor": 5
}
